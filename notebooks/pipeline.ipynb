{
 "cells": [
  {
   "cell_type": "code",
   "execution_count": 14,
   "metadata": {},
   "outputs": [],
   "source": [
    "!python subword-nmt/subword_nmt/apply_bpe.py -c /home/sunto/fairseq/examples/translation/new_datasets/simple_augmentation/code \\\n",
    "< bpe_input.txt> bpe_output.txt"
   ]
  },
  {
   "cell_type": "code",
   "execution_count": 15,
   "metadata": {},
   "outputs": [],
   "source": [
    "!python subword-nmt/subword_nmt/apply_bpe.py -c /home/sunto/fairseq/examples/translation/old_datasets/gn_wiki_data_updated_all_combined/code \\\n",
    "< bpe_input.txt> bpe_output_2.txt"
   ]
  },
  {
   "cell_type": "code",
   "execution_count": null,
   "metadata": {},
   "outputs": [],
   "source": []
  },
  {
   "cell_type": "code",
   "execution_count": 16,
   "metadata": {},
   "outputs": [
    {
     "name": "stdout",
     "output_type": "stream",
     "text": [
      "Audrina and their sister Aryn❤❤❤ @ Washington Monument National Monument https://t.co/rFXusmUJuA\n",
      "\n",
      "@callmedollar 10 years from now they are going to feel sorry they didn't pay them any mind😂😩 #theydontknowrealmusic\n"
     ]
    }
   ],
   "source": [
    "with open('bpe_input.txt', 'r') as f:\n",
    "    bpe_input = f.readlines()\n",
    "\n",
    "for line in bpe_input:\n",
    "    print(line)"
   ]
  },
  {
   "cell_type": "code",
   "execution_count": null,
   "metadata": {},
   "outputs": [],
   "source": []
  },
  {
   "cell_type": "code",
   "execution_count": 17,
   "metadata": {},
   "outputs": [
    {
     "name": "stdout",
     "output_type": "stream",
     "text": [
      "Aud@@ rina and their sister Ar@@ yn@@ ❤@@ ❤@@ ❤ @ Washington Mon@@ ument National Mon@@ ument htt@@ ps@@ ://@@ t@@ .@@ co@@ /@@ r@@ F@@ X@@ us@@ m@@ U@@ Ju@@ A\n",
      "\n",
      "@@@ call@@ med@@ ol@@ lar 10 years from now they are going to feel sor@@ ry they didn't pay them any mind@@ 😂@@ 😩 #@@ they@@ don@@ t@@ know@@ real@@ music\n"
     ]
    }
   ],
   "source": [
    "with open('bpe_output.txt', 'r') as f:\n",
    "    bpe_output = f.readlines()\n",
    "\n",
    "print('vocab size: 32000')\n",
    "    \n",
    "for line in bpe_output:\n",
    "    print(line)"
   ]
  },
  {
   "cell_type": "code",
   "execution_count": 21,
   "metadata": {},
   "outputs": [
    {
     "name": "stdout",
     "output_type": "stream",
     "text": [
      "Audrina and their sister Aryn❤❤❤ @ Washington Monument National Monument https://t.co/rFXusmUJuA\n",
      "@callmedollar 10 years from now they are going to feel sorry they didn't pay them any mind😂😩 #theydontknowrealmusic"
     ]
    }
   ],
   "source": [
    "!sed -r 's/(@@ )|(@@ ?$)//g' bpe_output.txt"
   ]
  },
  {
   "cell_type": "code",
   "execution_count": null,
   "metadata": {},
   "outputs": [],
   "source": []
  },
  {
   "cell_type": "code",
   "execution_count": 30,
   "metadata": {},
   "outputs": [
    {
     "name": "stdout",
     "output_type": "stream",
     "text": [
      "vocab size: 10000\n",
      "A@@ ud@@ rin@@ a and their sister Ar@@ yn@@ ❤@@ ❤@@ ❤ @ Washington Mon@@ ument National Mon@@ ument http@@ s@@ ://@@ t@@ .@@ co@@ /@@ r@@ F@@ X@@ us@@ m@@ U@@ Ju@@ A\n",
      "\n",
      "@@@ call@@ med@@ oll@@ ar 10 years from now they are going to feel sor@@ ry they didn't pay them any min@@ d@@ 😂@@ 😩 #@@ the@@ y@@ don@@ t@@ know@@ real@@ music\n"
     ]
    }
   ],
   "source": [
    "with open('bpe_output_2.txt', 'r') as f:\n",
    "    bpe_ouput_2 = f.readlines()\n",
    "\n",
    "with open('bpe_output_2_sed.txt', 'r') as f:\n",
    "    bpe_output_2_sed = f.readlines()\n",
    "    \n",
    "print('vocab size: 10000')\n",
    "\n",
    "for idx, line in enumerate(bpe_ouput_2):\n",
    "    print(line)\n",
    "#     print(bpe_output_2_sed[idx] == bpe_input[idx])"
   ]
  },
  {
   "cell_type": "code",
   "execution_count": 31,
   "metadata": {},
   "outputs": [
    {
     "name": "stdout",
     "output_type": "stream",
     "text": [
      "Audrina and their sister Aryn❤❤❤ @ Washington Monument National Monument https://t.co/rFXusmUJuA\n",
      "@callmedollar 10 years from now they are going to feel sorry they didn't pay them any mind😂😩 #theydontknowrealmusic"
     ]
    }
   ],
   "source": [
    "!sed -r 's/(@@ )|(@@ ?$)//g' bpe_output_2.txt"
   ]
  },
  {
   "cell_type": "code",
   "execution_count": null,
   "metadata": {},
   "outputs": [],
   "source": []
  },
  {
   "cell_type": "code",
   "execution_count": null,
   "metadata": {},
   "outputs": [],
   "source": []
  },
  {
   "cell_type": "code",
   "execution_count": 32,
   "metadata": {},
   "outputs": [],
   "source": [
    "from sacremoses import MosesTokenizer"
   ]
  },
  {
   "cell_type": "code",
   "execution_count": 33,
   "metadata": {},
   "outputs": [],
   "source": [
    "mt = MosesTokenizer(lang='en')"
   ]
  },
  {
   "cell_type": "code",
   "execution_count": 39,
   "metadata": {},
   "outputs": [
    {
     "name": "stdout",
     "output_type": "stream",
     "text": [
      "Audrina and their sister Aryn ❤ ❤ ❤ @ Washington Monument National Monument https : / / t.co / rFXusmUJuA\n",
      "---\n",
      "@ callmedollar 10 years from now they are going to feel sorry they didn &apos;t pay them any mind 😂 😩 # theydontknowrealmusic\n",
      "---\n",
      "CPU times: user 0 ns, sys: 4 ms, total: 4 ms\n",
      "Wall time: 1.91 ms\n"
     ]
    }
   ],
   "source": [
    "%%time\n",
    "with open('bpe_input_tokenized.txt', 'w') as f:\n",
    "    for line in bpe_input:\n",
    "        tokenized = mt.tokenize(line, return_str=True)\n",
    "        f.write(tokenized)\n",
    "        f.write('\\n')\n",
    "        \n",
    "        print(tokenized)\n",
    "        print('---')"
   ]
  },
  {
   "cell_type": "code",
   "execution_count": 40,
   "metadata": {},
   "outputs": [],
   "source": [
    "!python subword-nmt/subword_nmt/apply_bpe.py -c /home/sunto/fairseq/examples/translation/new_datasets/simple_augmentation/code \\\n",
    "< bpe_input_tokenized.txt> bpe_output_tokenized.txt"
   ]
  },
  {
   "cell_type": "code",
   "execution_count": 60,
   "metadata": {},
   "outputs": [
    {
     "name": "stdout",
     "output_type": "stream",
     "text": [
      "vocab size: 32000\n",
      "Aud@@ rina and their sister Ar@@ yn ❤ ❤ ❤ @ Washington Mon@@ ument National Mon@@ ument htt@@ ps : / / t@@ .@@ co / r@@ F@@ X@@ us@@ m@@ U@@ Ju@@ A\n",
      "\n",
      "@ call@@ med@@ ol@@ lar 10 years from now they are going to feel sor@@ ry they did@@ n &@@ ap@@ os@@ ;@@ t pay them any mind 😂 😩 # they@@ don@@ t@@ know@@ real@@ music\n",
      "\n"
     ]
    }
   ],
   "source": [
    "with open('bpe_output_tokenized.txt', 'r') as f:\n",
    "    bpe_output_tokenized = f.readlines()\n",
    "\n",
    "print('vocab size: 32000')\n",
    "    \n",
    "for line in bpe_output_tokenized:\n",
    "    print(line)\n",
    "# print('---')\n",
    "# for line in bpe_output:\n",
    "#     print(line)"
   ]
  },
  {
   "cell_type": "code",
   "execution_count": null,
   "metadata": {},
   "outputs": [],
   "source": []
  },
  {
   "cell_type": "code",
   "execution_count": 48,
   "metadata": {},
   "outputs": [],
   "source": [
    "from fairseq.data import dictionary"
   ]
  },
  {
   "cell_type": "code",
   "execution_count": 55,
   "metadata": {},
   "outputs": [],
   "source": [
    "d = dictionary.Dictionary()"
   ]
  },
  {
   "cell_type": "code",
   "execution_count": 56,
   "metadata": {},
   "outputs": [
    {
     "name": "stdout",
     "output_type": "stream",
     "text": [
      "tensor([ 4,  5,  6,  7,  8,  9, 10, 11, 11, 11, 12, 13, 14, 15, 16, 14, 15, 17,\n",
      "        18, 19, 20, 20, 21, 22, 23, 20, 24, 25, 26, 27, 28, 29, 30, 31,  2],\n",
      "       dtype=torch.int32)\n",
      "tensor([12, 32, 33, 34, 35, 36, 37, 38, 39, 40, 41, 42, 43, 44, 45, 46, 40, 47,\n",
      "        48, 49, 50, 51, 52, 53, 54, 55, 56, 57, 58, 59, 60, 61, 62, 21, 63, 64,\n",
      "        65,  2], dtype=torch.int32)\n"
     ]
    }
   ],
   "source": [
    "for line in bpe_output_tokenized:\n",
    "    print(d.encode_line(line))"
   ]
  },
  {
   "cell_type": "code",
   "execution_count": null,
   "metadata": {},
   "outputs": [],
   "source": []
  }
 ],
 "metadata": {
  "environment": {
   "name": "tf2-2-2-gpu.2-2.m49",
   "type": "gcloud",
   "uri": "gcr.io/deeplearning-platform-release/tf2-2-2-gpu.2-2:m49"
  },
  "kernelspec": {
   "display_name": "Python 3",
   "language": "python",
   "name": "python3"
  },
  "language_info": {
   "codemirror_mode": {
    "name": "ipython",
    "version": 3
   },
   "file_extension": ".py",
   "mimetype": "text/x-python",
   "name": "python",
   "nbconvert_exporter": "python",
   "pygments_lexer": "ipython3",
   "version": "3.7.6"
  }
 },
 "nbformat": 4,
 "nbformat_minor": 4
}

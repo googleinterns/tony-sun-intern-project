{
 "cells": [
  {
   "cell_type": "code",
   "execution_count": 3,
   "metadata": {},
   "outputs": [],
   "source": [
    "from sklearn.metrics import confusion_matrix\n",
    "import seaborn as sns\n",
    "import matplotlib.pyplot as plt"
   ]
  },
  {
   "cell_type": "code",
   "execution_count": 6,
   "metadata": {},
   "outputs": [],
   "source": [
    "def get_generation_target(eval_set, model):\n",
    "    with open(f'../../evaluation/{eval_set}/generations/{model}/generation.txt', 'r') as f:\n",
    "        generation = f.readlines()\n",
    "    \n",
    "    with open(f'../../evaluation/{eval_set}/target.txt', 'r') as f:\n",
    "        target = f.readlines()\n",
    "        \n",
    "    return generation, target"
   ]
  },
  {
   "cell_type": "code",
   "execution_count": 7,
   "metadata": {},
   "outputs": [],
   "source": [
    "generation, target = get_generation_target(eval_set='gendered_test_set', model='model_full')"
   ]
  },
  {
   "cell_type": "code",
   "execution_count": 8,
   "metadata": {},
   "outputs": [
    {
     "data": {
      "text/plain": [
       "(500, 500)"
      ]
     },
     "execution_count": 8,
     "metadata": {},
     "output_type": "execute_result"
    }
   ],
   "source": [
    "len(generation), len(target)"
   ]
  },
  {
   "cell_type": "code",
   "execution_count": 9,
   "metadata": {},
   "outputs": [
    {
     "data": {
      "text/plain": [
       "(\"man's business trip is cancelled and they are at home with a rather nervous wife.\\n\",\n",
       " \"man's business trip is cancelled and they are at home with a rather nervous wife.\\n\")"
      ]
     },
     "execution_count": 9,
     "metadata": {},
     "output_type": "execute_result"
    }
   ],
   "source": [
    "generation[-1], target[-1]"
   ]
  },
  {
   "cell_type": "code",
   "execution_count": null,
   "metadata": {},
   "outputs": [],
   "source": []
  },
  {
   "cell_type": "code",
   "execution_count": 10,
   "metadata": {},
   "outputs": [],
   "source": [
    "def eval_full(model):\n",
    "    y_label, y_pred = list(), list()\n",
    "    \n",
    "    gendered_generation, gendered_target = get_generation_target(eval_set='gendered_test_set', model=model)\n",
    "    nongendered_generation, nongendered_target = get_generation_target(eval_set='nongendered_test_set', model=model)\n",
    "    \n",
    "    for generation, target in zip(gendered_generation, gendered_target):\n",
    "        y_label.append(True)\n",
    "        y_pred.append(generation == target)\n",
    "    \n",
    "    for generation, target in zip(nongendered_generation, nongendered_target):\n",
    "        y_label.append(False)\n",
    "        y_pred.append(generation != target)\n",
    "    \n",
    "    return y_label, y_pred"
   ]
  },
  {
   "cell_type": "code",
   "execution_count": 45,
   "metadata": {},
   "outputs": [],
   "source": [
    "def get_confusion_matrix(y_label, y_pred):\n",
    "    cm = confusion_matrix(y_label, y_pred)\n",
    "    print('confusion matrix')\n",
    "    print(cm)\n",
    "    tn, fp, fn, tp = cm.ravel()\n",
    "    print(f'tn: {tn}, fp: {fp}, fn: {fn}, tp: {tp}')\n",
    "    ax = plt.subplot()\n",
    "    sns.heatmap(cm, annot=True, ax=ax, fmt='d');\n",
    "\n",
    "    ax.set_xlabel('Predicted labels');\n",
    "    ax.set_ylabel('True labels');\n",
    "\n",
    "    ax.xaxis.set_ticklabels(['nongendered', 'gendered']);\n",
    "    ax.yaxis.set_ticklabels(['nongendered', 'gendered']);\n",
    "    \n",
    "    print('---')\n",
    "    \n",
    "    prec = tp / (tp + fp)\n",
    "    recall = tp / (tp + fn)\n",
    "    acc = (tp + tn) / (tp + tn + fp + fn)\n",
    "    print(f'precision: {round(prec, 3)}')\n",
    "    print(f'recall: {round(recall, 3)}')\n",
    "    print(f'accuracy: {round(acc, 3)}')"
   ]
  },
  {
   "cell_type": "code",
   "execution_count": null,
   "metadata": {},
   "outputs": [],
   "source": []
  },
  {
   "cell_type": "code",
   "execution_count": 48,
   "metadata": {},
   "outputs": [
    {
     "name": "stdout",
     "output_type": "stream",
     "text": [
      "confusion matrix\n",
      "[[476  24]\n",
      " [ 62 438]]\n",
      "tn: 476, fp: 24, fn: 62, tp: 438\n",
      "---\n",
      "precision: 0.948\n",
      "recall: 0.876\n",
      "accuracy: 0.914\n"
     ]
    },
    {
     "data": {
      "image/png": "[encoded data removed]",
      "text/plain": [
       "<Figure size 432x288 with 2 Axes>"
      ]
     },
     "metadata": {
      "needs_background": "light"
     },
     "output_type": "display_data"
    }
   ],
   "source": [
    "y_label, y_pred = eval_full(model='model_simple_augmentation')\n",
    "get_confusion_matrix(y_label=y_label, y_pred=y_pred)"
   ]
  },
  {
   "cell_type": "code",
   "execution_count": 47,
   "metadata": {},
   "outputs": [
    {
     "name": "stdout",
     "output_type": "stream",
     "text": [
      "confusion matrix\n",
      "[[478  22]\n",
      " [ 62 438]]\n",
      "tn: 478, fp: 22, fn: 62, tp: 438\n",
      "---\n",
      "precision: 0.952\n",
      "recall: 0.876\n",
      "accuracy: 0.916\n"
     ]
    },
    {
     "data": {
      "image/png": "[encoded data removed]",
      "text/plain": [
       "<Figure size 432x288 with 2 Axes>"
      ]
     },
     "metadata": {
      "needs_background": "light"
     },
     "output_type": "display_data"
    }
   ],
   "source": [
    "y_label, y_pred = eval_full(model='model_full')\n",
    "get_confusion_matrix(y_label=y_label, y_pred=y_pred)"
   ]
  },
  {
   "cell_type": "code",
   "execution_count": null,
   "metadata": {},
   "outputs": [],
   "source": []
  },
  {
   "cell_type": "code",
   "execution_count": null,
   "metadata": {},
   "outputs": [],
   "source": []
  }
 ],
 "metadata": {
  "environment": {
   "name": "tf2-2-2-gpu.2-2.m49",
   "type": "gcloud",
   "uri": "gcr.io/deeplearning-platform-release/tf2-2-2-gpu.2-2:m49"
  },
  "kernelspec": {
   "display_name": "Python 3",
   "language": "python",
   "name": "python3"
  },
  "language_info": {
   "codemirror_mode": {
    "name": "ipython",
    "version": 3
   },
   "file_extension": ".py",
   "mimetype": "text/x-python",
   "name": "python",
   "nbconvert_exporter": "python",
   "pygments_lexer": "ipython3",
   "version": "3.7.6"
  }
 },
 "nbformat": 4,
 "nbformat_minor": 4
}

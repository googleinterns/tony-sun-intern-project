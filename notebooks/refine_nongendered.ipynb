{
 "cells": [
  {
   "cell_type": "code",
   "execution_count": 1,
   "metadata": {},
   "outputs": [],
   "source": [
    "with open('wikipedia_not_gendered_sentences.txt', 'r') as f:\n",
    "    not_gendered = f.readlines()"
   ]
  },
  {
   "cell_type": "code",
   "execution_count": 2,
   "metadata": {},
   "outputs": [
    {
     "data": {
      "text/plain": [
       "84409591"
      ]
     },
     "execution_count": 2,
     "metadata": {},
     "output_type": "execute_result"
    }
   ],
   "source": [
    "len(not_gendered)"
   ]
  },
  {
   "cell_type": "code",
   "execution_count": null,
   "metadata": {},
   "outputs": [],
   "source": []
  },
  {
   "cell_type": "code",
   "execution_count": 3,
   "metadata": {},
   "outputs": [],
   "source": [
    "import sys\n",
    "sys.path.append('tony-sun-intern-project/neutral_generation')\n",
    "from is_gendered import is_gendered"
   ]
  },
  {
   "cell_type": "code",
   "execution_count": 4,
   "metadata": {},
   "outputs": [
    {
     "data": {
      "text/plain": [
       "('male', 'female', 'both', False)"
      ]
     },
     "execution_count": 4,
     "metadata": {},
     "output_type": "execute_result"
    }
   ],
   "source": [
    "is_gendered('he'), is_gendered('she'), is_gendered('he she'), is_gendered('poop')"
   ]
  },
  {
   "cell_type": "code",
   "execution_count": null,
   "metadata": {},
   "outputs": [],
   "source": []
  },
  {
   "cell_type": "code",
   "execution_count": 12,
   "metadata": {},
   "outputs": [],
   "source": [
    "both, nongendered = list(), list()\n",
    "\n",
    "for sent in not_gendered:\n",
    "    sent_type = is_gendered(sent)\n",
    "    \n",
    "    if sent_type == 'both':\n",
    "        both.append(sent)\n",
    "    elif not sent_type:\n",
    "        nongendered.append(sent)"
   ]
  },
  {
   "cell_type": "code",
   "execution_count": 14,
   "metadata": {},
   "outputs": [
    {
     "data": {
      "text/plain": [
       "(492211, 83917380, True)"
      ]
     },
     "execution_count": 14,
     "metadata": {},
     "output_type": "execute_result"
    }
   ],
   "source": [
    "len(both), len(nongendered), len(both) + len(nongendered) == len(not_gendered)"
   ]
  },
  {
   "cell_type": "code",
   "execution_count": null,
   "metadata": {},
   "outputs": [],
   "source": []
  },
  {
   "cell_type": "code",
   "execution_count": 15,
   "metadata": {},
   "outputs": [],
   "source": [
    "with open('nongendered.txt', 'w') as f:\n",
    "    for sent in nongendered:\n",
    "        f.write(sent)"
   ]
  },
  {
   "cell_type": "code",
   "execution_count": 16,
   "metadata": {},
   "outputs": [],
   "source": [
    "def tokenize_list(sentences):\n",
    "    tokenized_list = list()\n",
    "    \n",
    "    for sent in sentences:\n",
    "        tokenized = mt.tokenize(sent, return_str=True)\n",
    "        tokenized_list.append(tokenized)\n",
    "    \n",
    "    return tokenized_list"
   ]
  },
  {
   "cell_type": "code",
   "execution_count": 18,
   "metadata": {},
   "outputs": [],
   "source": [
    "from sacremoses import MosesTokenizer\n",
    "mt = MosesTokenizer(lang='en')"
   ]
  },
  {
   "cell_type": "code",
   "execution_count": 19,
   "metadata": {},
   "outputs": [],
   "source": [
    "nongendered_tokenized = tokenize_list(sentences=nongendered)"
   ]
  },
  {
   "cell_type": "code",
   "execution_count": null,
   "metadata": {},
   "outputs": [],
   "source": [
    "with open('nongendered_tokenized.txt', 'w') as f:\n",
    "    for sent in nongendered_tokenized:\n",
    "        f.write(sent)"
   ]
  },
  {
   "cell_type": "code",
   "execution_count": null,
   "metadata": {},
   "outputs": [],
   "source": []
  },
  {
   "cell_type": "code",
   "execution_count": null,
   "metadata": {},
   "outputs": [],
   "source": []
  },
  {
   "cell_type": "code",
   "execution_count": null,
   "metadata": {},
   "outputs": [],
   "source": []
  },
  {
   "cell_type": "code",
   "execution_count": 34,
   "metadata": {},
   "outputs": [],
   "source": [
    "from collections import Counter, defaultdict\n",
    "import re\n",
    "import spacy\n",
    "import matplotlib.pyplot as plt"
   ]
  },
  {
   "cell_type": "code",
   "execution_count": 22,
   "metadata": {},
   "outputs": [],
   "source": [
    "# with open('wikipedia_training/original/wikipedia_gendered.source', 'r') as f:\n",
    "#     source = f.readlines()\n",
    "\n",
    "# with open('wikipedia_training/original/wikipedia_gendered.target', 'r') as f:\n",
    "#     target = f.readlines()"
   ]
  },
  {
   "cell_type": "code",
   "execution_count": 24,
   "metadata": {},
   "outputs": [],
   "source": [
    "with open('wikipedia_training/simple_augmentation/simple_augmentation.source', 'r') as f:\n",
    "    source = f.readlines()\n",
    "\n",
    "with open('wikipedia_training/simple_augmentation/simple_augmentation.target', 'r') as f:\n",
    "    target = f.readlines()"
   ]
  },
  {
   "cell_type": "code",
   "execution_count": 25,
   "metadata": {},
   "outputs": [
    {
     "data": {
      "text/plain": [
       "(30000000, 30000000)"
      ]
     },
     "execution_count": 25,
     "metadata": {},
     "output_type": "execute_result"
    }
   ],
   "source": [
    "len(source), len(target)"
   ]
  },
  {
   "cell_type": "code",
   "execution_count": null,
   "metadata": {},
   "outputs": [],
   "source": []
  },
  {
   "cell_type": "code",
   "execution_count": 26,
   "metadata": {},
   "outputs": [],
   "source": [
    "def clean_str(word):\n",
    "    pattern = re.compile(\"[^a-zA-Z']+\", re.UNICODE)\n",
    "    word = pattern.sub('', word)\n",
    "    return word.lower()"
   ]
  },
  {
   "cell_type": "code",
   "execution_count": 30,
   "metadata": {},
   "outputs": [
    {
     "name": "stdout",
     "output_type": "stream",
     "text": [
      "CPU times: user 7min 23s, sys: 140 ms, total: 7min 23s\n",
      "Wall time: 7min 23s\n"
     ]
    }
   ],
   "source": [
    "%%time\n",
    "change_type = Counter()\n",
    "total_changes = 0\n",
    "\n",
    "for source_sent, target_sent in zip(source, target):\n",
    "    source_sent = source_sent.split(' ')\n",
    "    target_sent = target_sent.split(' ')\n",
    "    \n",
    "    if len(source_sent) != len(target_sent):\n",
    "        continue\n",
    "        \n",
    "    for i in range(len(source_sent)):\n",
    "        if source_sent[i] != target_sent[i]:\n",
    "            source_word = clean_str(source_sent[i])\n",
    "            target_word = clean_str(target_sent[i])\n",
    "\n",
    "            change_type[(source_word, target_word)] += 1\n",
    "            \n",
    "            total_changes += 1"
   ]
  },
  {
   "cell_type": "code",
   "execution_count": 31,
   "metadata": {},
   "outputs": [
    {
     "name": "stdout",
     "output_type": "stream",
     "text": [
      "29573\n"
     ]
    },
    {
     "data": {
      "text/plain": [
       "[(('she', 'they'), 10802827),\n",
       " (('he', 'they'), 10802813),\n",
       " (('his', 'their'), 8400086),\n",
       " (('her', 'their'), 8400080),\n",
       " (('was', 'were'), 5286558),\n",
       " (('is', 'are'), 1448842),\n",
       " (('her', 'them'), 1385667),\n",
       " (('him', 'them'), 1087374),\n",
       " (('has', 'have'), 824500),\n",
       " (('his', 'theirs'), 361861),\n",
       " (('her', 'theirs'), 358830),\n",
       " (('himself', 'themself'), 340728),\n",
       " (('herself', 'themself'), 340724),\n",
       " (('his', 'them'), 298317),\n",
       " (('chairman', 'chair'), 120140),\n",
       " (('does', 'do'), 53786),\n",
       " (('his', 'her'), 53075),\n",
       " ((\"he's\", \"they're\"), 40627),\n",
       " ((\"she's\", \"they're\"), 40627),\n",
       " (('plays', 'play'), 33826)]"
      ]
     },
     "execution_count": 31,
     "metadata": {},
     "output_type": "execute_result"
    }
   ],
   "source": [
    "print(len(change_type))\n",
    "change_type.most_common(20)"
   ]
  },
  {
   "cell_type": "code",
   "execution_count": 32,
   "metadata": {},
   "outputs": [],
   "source": [
    "change_type_percent = Counter()\n",
    "for change in change_type:\n",
    "    change_type_percent[change] = '{:.3f}'.format(change_type[change] / total_changes)"
   ]
  },
  {
   "cell_type": "code",
   "execution_count": 33,
   "metadata": {},
   "outputs": [
    {
     "data": {
      "text/plain": [
       "[(('he', 'they'), '0.206'),\n",
       " (('she', 'they'), '0.206'),\n",
       " (('his', 'their'), '0.160'),\n",
       " (('her', 'their'), '0.160'),\n",
       " (('was', 'were'), '0.101'),\n",
       " (('is', 'are'), '0.028'),\n",
       " (('her', 'them'), '0.026'),\n",
       " (('him', 'them'), '0.021'),\n",
       " (('has', 'have'), '0.016'),\n",
       " (('his', 'theirs'), '0.007'),\n",
       " (('her', 'theirs'), '0.007'),\n",
       " (('his', 'them'), '0.006'),\n",
       " (('himself', 'themself'), '0.006'),\n",
       " (('herself', 'themself'), '0.006'),\n",
       " (('chairman', 'chair'), '0.002'),\n",
       " (('his', 'her'), '0.001'),\n",
       " (('plays', 'play'), '0.001'),\n",
       " ((\"he's\", \"they're\"), '0.001'),\n",
       " ((\"she's\", \"they're\"), '0.001'),\n",
       " (('holds', 'hold'), '0.001')]"
      ]
     },
     "execution_count": 33,
     "metadata": {},
     "output_type": "execute_result"
    }
   ],
   "source": [
    "change_type_percent.most_common(20)"
   ]
  },
  {
   "cell_type": "code",
   "execution_count": 35,
   "metadata": {},
   "outputs": [],
   "source": [
    "def my_autopct(pct):\n",
    "    return ('%.2f%%' % pct) if pct > 5 else ''"
   ]
  },
  {
   "cell_type": "code",
   "execution_count": 36,
   "metadata": {},
   "outputs": [],
   "source": [
    "labels = [change[0] for change in change_type.most_common(1000)]\n",
    "sizes = [change[1] for change in change_type.most_common(1000)]"
   ]
  },
  {
   "cell_type": "code",
   "execution_count": 37,
   "metadata": {},
   "outputs": [
    {
     "data": {
      "image/png": "[encoded data removed]",
      "text/plain": [
       "<Figure size 432x288 with 1 Axes>"
      ]
     },
     "metadata": {},
     "output_type": "display_data"
    }
   ],
   "source": [
    "plt.pie(sizes, labels=labels,\n",
    "autopct=my_autopct, shadow=True, startangle=140)\n",
    "\n",
    "plt.axis('equal')\n",
    "plt.show()"
   ]
  },
  {
   "cell_type": "code",
   "execution_count": null,
   "metadata": {},
   "outputs": [],
   "source": []
  }
 ],
 "metadata": {
  "environment": {
   "name": "tf2-2-2-gpu.2-2.m49",
   "type": "gcloud",
   "uri": "gcr.io/deeplearning-platform-release/tf2-2-2-gpu.2-2:m49"
  },
  "kernelspec": {
   "display_name": "Python 3",
   "language": "python",
   "name": "python3"
  },
  "language_info": {
   "codemirror_mode": {
    "name": "ipython",
    "version": 3
   },
   "file_extension": ".py",
   "mimetype": "text/x-python",
   "name": "python",
   "nbconvert_exporter": "python",
   "pygments_lexer": "ipython3",
   "version": "3.7.6"
  }
 },
 "nbformat": 4,
 "nbformat_minor": 4
}

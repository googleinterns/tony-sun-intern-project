{
 "cells": [
  {
   "cell_type": "code",
   "execution_count": 1,
   "metadata": {},
   "outputs": [],
   "source": [
    "from collections import Counter, defaultdict\n",
    "import re\n",
    "import spacy\n",
    "import matplotlib.pyplot as plt"
   ]
  },
  {
   "cell_type": "code",
   "execution_count": 2,
   "metadata": {},
   "outputs": [],
   "source": [
    "nlp = spacy.load(\"en_core_web_sm\")"
   ]
  },
  {
   "cell_type": "code",
   "execution_count": null,
   "metadata": {},
   "outputs": [],
   "source": []
  },
  {
   "cell_type": "code",
   "execution_count": 144,
   "metadata": {},
   "outputs": [],
   "source": [
    "MALE_PRONOUNS = ['he', 'him', 'his', 'himself']\n",
    "FEMALE_PRONOUNS = ['she', 'her', 'hers', 'herself']\n",
    "\n",
    "def is_gendered(sentence):\n",
    "    sentence = sentence.lower()\n",
    "    contains_male = any(re.search(r'\\b{}\\b'.format(m_pronoun), sentence) for m_pronoun in MALE_PRONOUNS)\n",
    "    contains_female = any(re.search(r'\\b{}\\b'.format(f_pronoun), sentence) for f_pronoun in FEMALE_PRONOUNS)\n",
    "    if contains_male and not contains_female:\n",
    "        return \"male\"\n",
    "    elif contains_female and not contains_male:\n",
    "        return \"female\"\n",
    "    return False"
   ]
  },
  {
   "cell_type": "code",
   "execution_count": 3,
   "metadata": {},
   "outputs": [],
   "source": [
    "def get_source_target():\n",
    "    with open(f'/home/jupyter/wikipedia_training/original/wikipedia_gendered.source', 'r') as f:\n",
    "        source = f.readlines()\n",
    "    \n",
    "    with open(f'/home/jupyter/wikipedia_training/original/wikipedia_gendered.target', 'r') as f:\n",
    "        target = f.readlines()\n",
    "        \n",
    "    return source, target"
   ]
  },
  {
   "cell_type": "code",
   "execution_count": 4,
   "metadata": {},
   "outputs": [],
   "source": [
    "source, target = get_source_target()"
   ]
  },
  {
   "cell_type": "code",
   "execution_count": 5,
   "metadata": {},
   "outputs": [
    {
     "data": {
      "text/plain": [
       "(15000000, 15000000)"
      ]
     },
     "execution_count": 5,
     "metadata": {},
     "output_type": "execute_result"
    }
   ],
   "source": [
    "len(source), len(target)"
   ]
  },
  {
   "cell_type": "code",
   "execution_count": null,
   "metadata": {},
   "outputs": [],
   "source": []
  },
  {
   "cell_type": "code",
   "execution_count": 12,
   "metadata": {},
   "outputs": [],
   "source": [
    "def clean_sent(sent):\n",
    "    nonbreaking_space = re.compile('\\xa0')\n",
    "    sent = nonbreaking_space.sub(' ', sent)\n",
    "    return sent"
   ]
  },
  {
   "cell_type": "code",
   "execution_count": 13,
   "metadata": {},
   "outputs": [
    {
     "data": {
      "text/plain": [
       "'In 1961, his single \"Water Boy\" reached No. 40 on the Billboard Hot 100 and stayed on the chart for 14 weeks.\\n'"
      ]
     },
     "execution_count": 13,
     "metadata": {},
     "output_type": "execute_result"
    }
   ],
   "source": [
    "clean_sent(source[0])"
   ]
  },
  {
   "cell_type": "code",
   "execution_count": null,
   "metadata": {},
   "outputs": [],
   "source": []
  },
  {
   "cell_type": "code",
   "execution_count": 26,
   "metadata": {},
   "outputs": [],
   "source": [
    "# # ordering of pronouns matters (so that we don't replace \"them\" part of \"themself\" when doing regex)\n",
    "\n",
    "# male_mapping = {\n",
    "#     'they': 'he',\n",
    "#     'themself': 'himself',\n",
    "#     'them': 'him',\n",
    "#     'theirs': 'his',\n",
    "#     'their': 'his',\n",
    "# }\n",
    "\n",
    "# female_mapping = {\n",
    "#     'they': 'she',\n",
    "#     'themself': 'herself',\n",
    "#     'them': 'her',\n",
    "#     'theirs': 'hers',\n",
    "#     'their': 'her',\n",
    "# }\n",
    "\n",
    "# verbs_mapping = {\n",
    "#     'were': 'was',\n",
    "#     'are': 'is',\n",
    "#     'have': 'has'\n",
    "# }"
   ]
  },
  {
   "cell_type": "code",
   "execution_count": 28,
   "metadata": {},
   "outputs": [],
   "source": [
    "# def augment_sent(sent, replace_gender):\n",
    "#     if replace_gender == 'male':\n",
    "#         for neutral, pronoun in male_mapping.items():\n",
    "#             for case in [(neutral, pronoun), (neutral.capitalize(), pronoun.capitalize()), (neutral.upper(), pronoun.upper())]:\n",
    "#                 pattern = re.compile(case[0])\n",
    "#                 sent = pattern.sub(case[1], sent)\n",
    "    \n",
    "#     elif replace_gender == 'female':\n",
    "#         for neutral, pronoun in female_mapping.items():\n",
    "#             for case in [(neutral, pronoun), (neutral.capitalize(), pronoun.capitalize()), (neutral.upper(), pronoun.upper())]:\n",
    "#                 pattern = re.compile(case[0])\n",
    "#                 sent = pattern.sub(case[1], sent)\n",
    "    \n",
    "#     return sent"
   ]
  },
  {
   "cell_type": "code",
   "execution_count": 42,
   "metadata": {},
   "outputs": [],
   "source": [
    "# augment_sent('They THEM THEIRS hello THEMSELF their', 'female')"
   ]
  },
  {
   "cell_type": "code",
   "execution_count": null,
   "metadata": {},
   "outputs": [],
   "source": []
  },
  {
   "cell_type": "code",
   "execution_count": 37,
   "metadata": {},
   "outputs": [],
   "source": [
    "# augmentation_list = list()\n",
    "\n",
    "# for i in range(100):\n",
    "#     gender = is_gendered(source[i])\n",
    "#     if gender != 'male' and gender != 'female':\n",
    "#         print(f'{i}: not gendered (probably a mistake)')\n",
    "#         continue\n",
    "        \n",
    "#     sent = clean_sent(target[i])\n",
    "    \n",
    "#     if gender == 'male':\n",
    "#         replace_gender = 'female'\n",
    "#     elif gender == 'female':\n",
    "#         replace_gender = 'male'\n",
    "    \n",
    "#     augmentation = augment_sent(sent=sent, replace_gender=replace_gender)\n",
    "    \n",
    "#     augmentation_list.append(source[i])\n",
    "#     augmentation_list.append(augmentation)"
   ]
  },
  {
   "cell_type": "code",
   "execution_count": 40,
   "metadata": {},
   "outputs": [],
   "source": [
    "MALE_PRONOUNS = ['he', 'him', 'his', 'himself']\n",
    "FEMALE_PRONOUNS = ['she', 'her', 'hers', 'herself']\n",
    "NEUTRAL_PRONOUNS = ['they', 'them', 'their', 'theirs', 'themself']"
   ]
  },
  {
   "cell_type": "code",
   "execution_count": 57,
   "metadata": {},
   "outputs": [],
   "source": [
    "# gender_mapping = [\n",
    "#     ('he', 'she'),\n",
    "#     ('himself', 'herself'),\n",
    "#     ('him', 'her'),\n",
    "#     ('his', 'her'),\n",
    "# ]"
   ]
  },
  {
   "cell_type": "code",
   "execution_count": 92,
   "metadata": {},
   "outputs": [],
   "source": [
    "# ordering of pronouns matters (so that we don't replace \"them\" part of \"themself\" when doing regex)\n",
    "# let's also try downsampling instead of augmentation (this way, cleaner sentences. augmentation --> noisy samples)\n",
    "\n",
    "female_to_male = {\n",
    "    'she': 'he',\n",
    "    'herself': 'himself',\n",
    "    'hers': 'his',\n",
    "    'her': 'his',  # not ideal, missing \"him\" (1.1% of cases)\n",
    "}\n",
    "\n",
    "male_to_female= {\n",
    "    'he': 'she',\n",
    "    'himself': 'herself',\n",
    "    'him': 'her',  \n",
    "    'his': 'her',  # not ideal, missing \"hers\" (1.4% of cases)\n",
    "}"
   ]
  },
  {
   "cell_type": "code",
   "execution_count": 116,
   "metadata": {},
   "outputs": [],
   "source": [
    "def augment_sent(sent, replace_gender):\n",
    "    if replace_gender == 'male':\n",
    "        for female, male in female_to_male.items():\n",
    "            for case in [(male, female), (male.capitalize(), female.capitalize()), (male.upper(), female.upper())]:\n",
    "                pattern = re.compile(r'\\b{}\\b'.format(case[1]))\n",
    "                sent = pattern.sub(case[0], sent)\n",
    "    \n",
    "    elif replace_gender == 'female':\n",
    "        for male, female in male_to_female.items():\n",
    "            for case in [(male, female), (male.capitalize(), female.capitalize()), (male.upper(), female.upper())]:\n",
    "                pattern = re.compile(r'\\b{}\\b'.format(case[0]))\n",
    "                sent = pattern.sub(case[1], sent)\n",
    "    \n",
    "    return sent"
   ]
  },
  {
   "cell_type": "code",
   "execution_count": 96,
   "metadata": {},
   "outputs": [
    {
     "data": {
      "text/plain": [
       "'They THEM THEIRS THEMSELF their test he Him HER himself test She Her hers HERSELF'"
      ]
     },
     "execution_count": 96,
     "metadata": {},
     "output_type": "execute_result"
    }
   ],
   "source": [
    "test_sent = 'They THEM THEIRS THEMSELF their test he Him HIS himself test She Her hers HERSELF'\n",
    "augment_sent(test_sent, 'female')"
   ]
  },
  {
   "cell_type": "code",
   "execution_count": 117,
   "metadata": {},
   "outputs": [
    {
     "data": {
      "text/plain": [
       "'She was born in Monopoli near Bari, she was orphaned of father and impoverished.\\n'"
      ]
     },
     "execution_count": 117,
     "metadata": {},
     "output_type": "execute_result"
    }
   ],
   "source": [
    "augment_sent('He was born in Monopoli near Bari, he was orphaned of father and impoverished.\\n', 'female')"
   ]
  },
  {
   "cell_type": "code",
   "execution_count": null,
   "metadata": {},
   "outputs": [],
   "source": []
  },
  {
   "cell_type": "code",
   "execution_count": 145,
   "metadata": {},
   "outputs": [],
   "source": [
    "male_count, female_count = 0, 0\n",
    "\n",
    "for i in range(len(source)):\n",
    "    gender = is_gendered(source[i])\n",
    "    if gender != 'male' and gender != 'female':\n",
    "        print(f'{i}: not gendered (probably a mistake)')\n",
    "        continue\n",
    "    \n",
    "    if gender == 'male':\n",
    "        male_count += 1\n",
    "    if gender == 'female':\n",
    "        female_count += 1"
   ]
  },
  {
   "cell_type": "code",
   "execution_count": 146,
   "metadata": {},
   "outputs": [
    {
     "data": {
      "text/plain": [
       "(11809891, 3190109)"
      ]
     },
     "execution_count": 146,
     "metadata": {},
     "output_type": "execute_result"
    }
   ],
   "source": [
    "male_count, female_count"
   ]
  },
  {
   "cell_type": "code",
   "execution_count": 148,
   "metadata": {},
   "outputs": [
    {
     "data": {
      "text/plain": [
       "(0.787, 0.213)"
      ]
     },
     "execution_count": 148,
     "metadata": {},
     "output_type": "execute_result"
    }
   ],
   "source": [
    "round(male_count / len(source), 3), round(female_count / len(source), 3)"
   ]
  },
  {
   "cell_type": "code",
   "execution_count": 139,
   "metadata": {},
   "outputs": [
    {
     "name": "stdout",
     "output_type": "stream",
     "text": [
      "CPU times: user 20min 59s, sys: 3.99 s, total: 21min 3s\n",
      "Wall time: 21min 3s\n"
     ]
    }
   ],
   "source": [
    "%%time\n",
    "augmentation_source = list()\n",
    "augmentation_target = list()\n",
    "\n",
    "for i in range(len(source)):\n",
    "    gender = is_gendered(source[i])\n",
    "    if gender != 'male' and gender != 'female':\n",
    "        print(f'{i}: not gendered (probably a mistake)')\n",
    "        continue\n",
    "        \n",
    "    sent = clean_sent(source[i])\n",
    "    \n",
    "    if gender == 'male':\n",
    "        replace_gender = 'female'\n",
    "    elif gender == 'female':\n",
    "        replace_gender = 'male'\n",
    "    \n",
    "    augmentation = augment_sent(sent=sent, replace_gender=replace_gender)\n",
    "    \n",
    "    augmentation_source.append(sent)\n",
    "    augmentation_source.append(augmentation)\n",
    "    \n",
    "    for _ in range(2):\n",
    "        augmentation_target.append(clean_sent(target[i]))"
   ]
  },
  {
   "cell_type": "code",
   "execution_count": 140,
   "metadata": {},
   "outputs": [
    {
     "name": "stdout",
     "output_type": "stream",
     "text": [
      "30000000\n"
     ]
    },
    {
     "data": {
      "text/plain": [
       "['In 1961, his single \"Water Boy\" reached No. 40 on the Billboard Hot 100 and stayed on the chart for 14 weeks.\\n',\n",
       " 'In 1961, her single \"Water Boy\" reached No. 40 on the Billboard Hot 100 and stayed on the chart for 14 weeks.\\n',\n",
       " 'He was born in Monopoli near Bari, he was orphaned of father and impoverished.\\n',\n",
       " 'She was born in Monopoli near Bari, she was orphaned of father and impoverished.\\n',\n",
       " \"He was a member of India's gold-medal winning hockey team at the 2014 Asian Games in Incheon, South Korea.\\n\",\n",
       " \"She was a member of India's gold-medal winning hockey team at the 2014 Asian Games in Incheon, South Korea.\\n\",\n",
       " 'He was a polyglot, being well versed in Kannada, Marathi and Urdu, Tamil, Telugu besides English.\\n',\n",
       " 'She was a polyglot, being well versed in Kannada, Marathi and Urdu, Tamil, Telugu besides English.\\n',\n",
       " 'Effectively blacklisted for working on a studio project during the 1988 Writers Guild of America strike, he finally got financial backing for a feature from investors in Japan, where his films had been successful on video.\\n',\n",
       " 'Effectively blacklisted for working on a studio project during the 1988 Writers Guild of America strike, she finally got financial backing for a feature from investors in Japan, where her films had been successful on video.\\n']"
      ]
     },
     "execution_count": 140,
     "metadata": {},
     "output_type": "execute_result"
    }
   ],
   "source": [
    "print(len(augmentation_source))\n",
    "augmentation_source[:10]"
   ]
  },
  {
   "cell_type": "code",
   "execution_count": 141,
   "metadata": {},
   "outputs": [
    {
     "name": "stdout",
     "output_type": "stream",
     "text": [
      "30000000\n"
     ]
    },
    {
     "data": {
      "text/plain": [
       "['In 1961, theirs single \"Water Boy\" reached No. 40 on the Billboard Hot 100 and stayed on the chart for 14 weeks.\\n',\n",
       " 'In 1961, theirs single \"Water Boy\" reached No. 40 on the Billboard Hot 100 and stayed on the chart for 14 weeks.\\n',\n",
       " 'They were born in Monopoli near Bari, they were orphaned of father and impoverished.\\n',\n",
       " 'They were born in Monopoli near Bari, they were orphaned of father and impoverished.\\n',\n",
       " \"They were a member of India's gold-medal winning hockey team at the 2014 Asian Games in Incheon, South Korea.\\n\",\n",
       " \"They were a member of India's gold-medal winning hockey team at the 2014 Asian Games in Incheon, South Korea.\\n\",\n",
       " 'They were a polyglot, being well versed in Kannada, Marathi and Urdu, Tamil, Telugu besides English.\\n',\n",
       " 'They were a polyglot, being well versed in Kannada, Marathi and Urdu, Tamil, Telugu besides English.\\n',\n",
       " 'Effectively blacklisted for working on a studio project during the 1988 Writers Guild of America strike, they finally got financial backing for a feature from investors in Japan, where their films had been successful on video.\\n',\n",
       " 'Effectively blacklisted for working on a studio project during the 1988 Writers Guild of America strike, they finally got financial backing for a feature from investors in Japan, where their films had been successful on video.\\n']"
      ]
     },
     "execution_count": 141,
     "metadata": {},
     "output_type": "execute_result"
    }
   ],
   "source": [
    "print(len(augmentation_target))\n",
    "augmentation_target[:10]"
   ]
  },
  {
   "cell_type": "code",
   "execution_count": null,
   "metadata": {},
   "outputs": [],
   "source": []
  },
  {
   "cell_type": "code",
   "execution_count": 142,
   "metadata": {},
   "outputs": [],
   "source": [
    "with open('/home/jupyter/wikipedia_training/simple_augmentation/simple_augmentation.source', 'w') as f:\n",
    "    for sent in augmentation_source:\n",
    "        f.write(sent)"
   ]
  },
  {
   "cell_type": "code",
   "execution_count": 143,
   "metadata": {},
   "outputs": [],
   "source": [
    "with open('/home/jupyter/wikipedia_training/simple_augmentation/simple_augmentation.target', 'w') as f:\n",
    "    for sent in augmentation_target:\n",
    "        f.write(sent)"
   ]
  },
  {
   "cell_type": "code",
   "execution_count": null,
   "metadata": {},
   "outputs": [],
   "source": []
  },
  {
   "cell_type": "code",
   "execution_count": null,
   "metadata": {},
   "outputs": [],
   "source": []
  },
  {
   "cell_type": "code",
   "execution_count": 132,
   "metadata": {},
   "outputs": [],
   "source": [
    "import sys\n",
    "sys.path.append('/home/jupyter/tony-sun-intern-project/neutral_generation')\n",
    "from constants import *\n",
    "from smart_convert import convert"
   ]
  },
  {
   "cell_type": "code",
   "execution_count": 133,
   "metadata": {},
   "outputs": [
    {
     "name": "stdout",
     "output_type": "stream",
     "text": [
      "CPU times: user 24 ms, sys: 0 ns, total: 24 ms\n",
      "Wall time: 170 ms\n"
     ]
    },
    {
     "data": {
      "text/plain": [
       "'In 1961, their single \"Water Boy\" reached No. 40 on the Billboard Hot 100 and stayed on the chart for 14 weeks.\\n'"
      ]
     },
     "execution_count": 133,
     "metadata": {},
     "output_type": "execute_result"
    }
   ],
   "source": [
    "%%time\n",
    "convert('In 1961, her single \"Water Boy\" reached No. 40 on the Billboard Hot 100 and stayed on the chart for 14 weeks.\\n')"
   ]
  },
  {
   "cell_type": "code",
   "execution_count": null,
   "metadata": {},
   "outputs": [],
   "source": []
  }
 ],
 "metadata": {
  "environment": {
   "name": "tf2-2-2-gpu.2-2.m49",
   "type": "gcloud",
   "uri": "gcr.io/deeplearning-platform-release/tf2-2-2-gpu.2-2:m49"
  },
  "kernelspec": {
   "display_name": "Python 3",
   "language": "python",
   "name": "python3"
  },
  "language_info": {
   "codemirror_mode": {
    "name": "ipython",
    "version": 3
   },
   "file_extension": ".py",
   "mimetype": "text/x-python",
   "name": "python",
   "nbconvert_exporter": "python",
   "pygments_lexer": "ipython3",
   "version": "3.7.6"
  }
 },
 "nbformat": 4,
 "nbformat_minor": 4
}

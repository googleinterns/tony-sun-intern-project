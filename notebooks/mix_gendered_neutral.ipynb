{
 "cells": [
  {
   "cell_type": "code",
   "execution_count": 25,
   "metadata": {},
   "outputs": [],
   "source": [
    "import os\n",
    "import random"
   ]
  },
  {
   "cell_type": "code",
   "execution_count": 4,
   "metadata": {},
   "outputs": [],
   "source": [
    "def get_gendered(model):\n",
    "    with open(f'wikipedia_training/{model}/{model}.source', 'r') as f:\n",
    "        source = f.readlines()\n",
    "        \n",
    "    with open(f'wikipedia_training/{model}/{model}.target', 'r') as f:\n",
    "        target = f.readlines()\n",
    "    \n",
    "    return source, target"
   ]
  },
  {
   "cell_type": "code",
   "execution_count": 91,
   "metadata": {},
   "outputs": [],
   "source": [
    "with open('nongendered.txt', 'r') as f:\n",
    "    nongendered_full = f.readlines()"
   ]
  },
  {
   "cell_type": "code",
   "execution_count": 13,
   "metadata": {},
   "outputs": [],
   "source": [
    "def get_count(source, target, count):\n",
    "    return source[:count], target[:count]"
   ]
  },
  {
   "cell_type": "code",
   "execution_count": null,
   "metadata": {},
   "outputs": [],
   "source": []
  },
  {
   "cell_type": "code",
   "execution_count": 121,
   "metadata": {},
   "outputs": [],
   "source": [
    "MODEL = 'simple_augmentation_full'"
   ]
  },
  {
   "cell_type": "code",
   "execution_count": 122,
   "metadata": {},
   "outputs": [],
   "source": [
    "gender_full, neutral_full = get_gendered(model=MODEL)"
   ]
  },
  {
   "cell_type": "code",
   "execution_count": 123,
   "metadata": {},
   "outputs": [
    {
     "data": {
      "text/plain": [
       "(30000000, 30000000)"
      ]
     },
     "execution_count": 123,
     "metadata": {},
     "output_type": "execute_result"
    }
   ],
   "source": [
    "len(gender_full), len(neutral_full)"
   ]
  },
  {
   "cell_type": "code",
   "execution_count": null,
   "metadata": {},
   "outputs": [],
   "source": []
  },
  {
   "cell_type": "code",
   "execution_count": 124,
   "metadata": {},
   "outputs": [],
   "source": [
    "GENDERED_COUNT = 20000000\n",
    "NONGENDERED_COUNT = int(3 / 7 * GENDERED_COUNT)"
   ]
  },
  {
   "cell_type": "code",
   "execution_count": 125,
   "metadata": {},
   "outputs": [],
   "source": [
    "gender, neutral = get_count(gender_full, neutral_full, GENDERED_COUNT)"
   ]
  },
  {
   "cell_type": "code",
   "execution_count": 126,
   "metadata": {},
   "outputs": [
    {
     "data": {
      "text/plain": [
       "(20000000, 20000000)"
      ]
     },
     "execution_count": 126,
     "metadata": {},
     "output_type": "execute_result"
    }
   ],
   "source": [
    "len(gender), len(neutral)"
   ]
  },
  {
   "cell_type": "code",
   "execution_count": 127,
   "metadata": {},
   "outputs": [
    {
     "data": {
      "text/plain": [
       "('the fame he achieved thanks to these successes meant that in 1750 he received the commission from the Teatro San Carlo for his first opera seria, Antigonus .\\n',\n",
       " 'the fame they achieved thanks to these successes meant that in 1750 they received the commission from the Teatro San Carlo for their first opera seria, Antigonus .\\n')"
      ]
     },
     "execution_count": 127,
     "metadata": {},
     "output_type": "execute_result"
    }
   ],
   "source": [
    "gender[10], neutral[10]"
   ]
  },
  {
   "cell_type": "code",
   "execution_count": null,
   "metadata": {},
   "outputs": [],
   "source": []
  },
  {
   "cell_type": "code",
   "execution_count": null,
   "metadata": {},
   "outputs": [],
   "source": []
  },
  {
   "cell_type": "code",
   "execution_count": 128,
   "metadata": {},
   "outputs": [],
   "source": [
    "nongendered = nongendered_full[:NONGENDERED_COUNT]"
   ]
  },
  {
   "cell_type": "code",
   "execution_count": 129,
   "metadata": {},
   "outputs": [
    {
     "data": {
      "text/plain": [
       "(83917380, 8571428)"
      ]
     },
     "execution_count": 129,
     "metadata": {},
     "output_type": "execute_result"
    }
   ],
   "source": [
    "len(nongendered_full), len(nongendered)"
   ]
  },
  {
   "cell_type": "code",
   "execution_count": 130,
   "metadata": {},
   "outputs": [
    {
     "data": {
      "text/plain": [
       "'The tourist development, aside from construction, also brought numerous businesses such as restaurants, bars and other businesses focused on visitors.\\n'"
      ]
     },
     "execution_count": 130,
     "metadata": {},
     "output_type": "execute_result"
    }
   ],
   "source": [
    "nongendered[10]"
   ]
  },
  {
   "cell_type": "code",
   "execution_count": null,
   "metadata": {},
   "outputs": [],
   "source": []
  },
  {
   "cell_type": "code",
   "execution_count": 131,
   "metadata": {},
   "outputs": [],
   "source": [
    "source = gender + nongendered\n",
    "target = neutral + nongendered"
   ]
  },
  {
   "cell_type": "code",
   "execution_count": 132,
   "metadata": {},
   "outputs": [
    {
     "data": {
      "text/plain": [
       "(28571428, 28571428)"
      ]
     },
     "execution_count": 132,
     "metadata": {},
     "output_type": "execute_result"
    }
   ],
   "source": [
    "len(source), len(target)"
   ]
  },
  {
   "cell_type": "code",
   "execution_count": 115,
   "metadata": {},
   "outputs": [
    {
     "data": {
      "text/plain": [
       "(['In 1961, his single \"Water Boy\" reached No. 40 on the Billboard Hot 100 and stayed on the chart for 14 weeks.\\n',\n",
       "  'In 1961, her single \"Water Boy\" reached No. 40 on the Billboard Hot 100 and stayed on the chart for 14 weeks.\\n',\n",
       "  'He was born in Monopoli near Bari, he was orphaned of father and impoverished.\\n',\n",
       "  'She was born in Monopoli near Bari, she was orphaned of father and impoverished.\\n'],\n",
       " ['In 1961, theirs single \"Water Boy\" reached No. 40 on the Billboard Hot 100 and stayed on the chart for 14 weeks.\\n',\n",
       "  'In 1961, theirs single \"Water Boy\" reached No. 40 on the Billboard Hot 100 and stayed on the chart for 14 weeks.\\n',\n",
       "  'They were born in Monopoli near Bari, they were orphaned of father and impoverished.\\n',\n",
       "  'They were born in Monopoli near Bari, they were orphaned of father and impoverished.\\n'])"
      ]
     },
     "execution_count": 115,
     "metadata": {},
     "output_type": "execute_result"
    }
   ],
   "source": [
    "source[:4], target[:4]"
   ]
  },
  {
   "cell_type": "code",
   "execution_count": null,
   "metadata": {},
   "outputs": [],
   "source": []
  },
  {
   "cell_type": "code",
   "execution_count": 133,
   "metadata": {},
   "outputs": [
    {
     "name": "stdout",
     "output_type": "stream",
     "text": [
      "CPU times: user 6min 39s, sys: 3.73 s, total: 6min 43s\n",
      "Wall time: 6min 42s\n"
     ]
    }
   ],
   "source": [
    "%%time\n",
    "intermediate = list(zip(source, target))\n",
    "\n",
    "random.seed(0)\n",
    "random.shuffle(intermediate)\n",
    "\n",
    "source_shuffled, target_shuffled = zip(*intermediate)"
   ]
  },
  {
   "cell_type": "code",
   "execution_count": 134,
   "metadata": {},
   "outputs": [
    {
     "data": {
      "text/plain": [
       "(28571428, 28571428)"
      ]
     },
     "execution_count": 134,
     "metadata": {},
     "output_type": "execute_result"
    }
   ],
   "source": [
    "len(source_shuffled), len(target_shuffled)"
   ]
  },
  {
   "cell_type": "code",
   "execution_count": 135,
   "metadata": {},
   "outputs": [
    {
     "data": {
      "text/plain": [
       "(('94. See \"Many Masks,\" Gill, Brendan, G. P. Putnam\\'s Sons, New York, 1987, p.\\n',\n",
       "  'She died in Glasgow in 1933 at the age of 53.\\n',\n",
       "  'Despite asking to come back on, the producers refused, despite the fact Laurence Llewelyn-Bowen was allowed back on in similar circumstances.\\n',\n",
       "  'Overall, he made 10 appearances, eight starts and paced the staff with 54.0 innings pitched, finishing with a 5-2 ledger, 3.00 ERA, .96 WHIP and .204 opponent batting average with 45 strikeouts to only 12 walks.\\n',\n",
       "  'She sat in the Senate until 1990, when she was appointed as Lieutenant Governor of Quebec by the Governor General, on the advice of Prime Minister Brian Mulroney.\\n',\n",
       "  'He is also the leading goal scorers for Nepal alongside Nirajan Rayamajhi—both with 13 goals apiece.\\n',\n",
       "  'Keagan Harsha (2008-04-23), \"A Vermont Expert\\'s Take on Polygamy\", WCAX News, retrieved 2013-10-21\\n',\n",
       "  'On their official website, Roy Stride said:\\n',\n",
       "  'Illinois House Democrats - Michael J. Carberry profile\\n',\n",
       "  'Once Olrik has been sent to get some rest, Mortimer confronts Septimus at gunpoint only for the latter to use a spinning disk on his head that hypnotises Mortimer and makes him unconscious.\\n'),\n",
       " ('94. See \"Many Masks,\" Gill, Brendan, G. P. Putnam\\'s Sons, New York, 1987, p.\\n',\n",
       "  'They died in Glasgow in 1933 at the age of 53.\\n',\n",
       "  'Despite asking to come back on, the producers refused, despite the fact Laurence Llewelyn-Bowen was allowed back on in similar circumstances.\\n',\n",
       "  'Overall, they made 10 appearances, eight starts and paced the staff with 54.0 innings pitched, finishing with a 5-2 ledger, 3.00 ERA, .96 WHIP and .204 opponent batting average with 45 strikeouts to only 12 walks.\\n',\n",
       "  'They sat in the Senate until 1990, when they were appointed as Lieutenant Governor of Quebec by the Governor General, on the advice of Prime Minister Brian Mulroney.\\n',\n",
       "  'They are also the leading goal scorers for Nepal alongside Nirajan Rayamajhi—both with 13 goals apiece.\\n',\n",
       "  'Keagan Harsha (2008-04-23), \"A Vermont Expert\\'s Take on Polygamy\", WCAX News, retrieved 2013-10-21\\n',\n",
       "  'On their official website, Roy Stride said:\\n',\n",
       "  'Illinois House Democrats - Michael J. Carberry profile\\n',\n",
       "  'Once Olrik has been sent to get some rest, Mortimer confronts Septimus at gunpoint only for the latter to use a spinning disk on their head that hypnotises Mortimer and makes them unconscious.\\n'))"
      ]
     },
     "execution_count": 135,
     "metadata": {},
     "output_type": "execute_result"
    }
   ],
   "source": [
    "source_shuffled[:10], target_shuffled[:10]"
   ]
  },
  {
   "cell_type": "code",
   "execution_count": null,
   "metadata": {},
   "outputs": [],
   "source": []
  },
  {
   "cell_type": "code",
   "execution_count": null,
   "metadata": {},
   "outputs": [],
   "source": []
  },
  {
   "cell_type": "code",
   "execution_count": 136,
   "metadata": {},
   "outputs": [],
   "source": [
    "def write_splits(sentences, extension, folder=f'wikipedia_training/{MODEL}/splits'):\n",
    "    !mkdir -p $folder\n",
    "    \n",
    "    # split 80-10-10\n",
    "    num_sents = len(sentences)\n",
    "    num_train = int(0.8 * num_sents)\n",
    "    num_val = int(0.9 * num_sents)\n",
    "    # test is the remaining 10%\n",
    "    \n",
    "    with open(f\"{folder}/train.{extension}\", 'w') as f:\n",
    "        for sent in sentences[:num_train]:\n",
    "            f.write(sent)\n",
    "    \n",
    "    with open(f\"{folder}/val.{extension}\", 'w') as f:\n",
    "        for sent in sentences[num_train:num_val]:\n",
    "            f.write(sent)\n",
    "    \n",
    "    with open(f\"{folder}/test.{extension}\", 'w') as f:\n",
    "        for sent in sentences[num_val:]:\n",
    "            f.write(sent)"
   ]
  },
  {
   "cell_type": "code",
   "execution_count": 137,
   "metadata": {},
   "outputs": [],
   "source": [
    "write_splits(sentences=source_shuffled, extension='source', folder='wikipedia_training/sa_nt_20_8/splits')\n",
    "write_splits(sentences=target_shuffled, extension='target', folder='wikipedia_training/sa_nt_20_8/splits')"
   ]
  },
  {
   "cell_type": "code",
   "execution_count": null,
   "metadata": {},
   "outputs": [],
   "source": []
  },
  {
   "cell_type": "code",
   "execution_count": null,
   "metadata": {},
   "outputs": [],
   "source": []
  },
  {
   "cell_type": "code",
   "execution_count": null,
   "metadata": {},
   "outputs": [],
   "source": []
  }
 ],
 "metadata": {
  "environment": {
   "name": "tf2-2-2-gpu.2-2.m49",
   "type": "gcloud",
   "uri": "gcr.io/deeplearning-platform-release/tf2-2-2-gpu.2-2:m49"
  },
  "kernelspec": {
   "display_name": "Python 3",
   "language": "python",
   "name": "python3"
  },
  "language_info": {
   "codemirror_mode": {
    "name": "ipython",
    "version": 3
   },
   "file_extension": ".py",
   "mimetype": "text/x-python",
   "name": "python",
   "nbconvert_exporter": "python",
   "pygments_lexer": "ipython3",
   "version": "3.7.6"
  }
 },
 "nbformat": 4,
 "nbformat_minor": 4
}
